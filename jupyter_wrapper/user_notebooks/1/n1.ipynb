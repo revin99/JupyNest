{
 "cells": [
  {
   "cell_type": "code",
   "execution_count": null,
   "id": "bd0cf116-2110-498c-8c89-fbc8791db18e",
   "metadata": {},
   "outputs": [],
   "source": [
    "print(\"this is notebook 1\")"
   ]
  }
 ],
 "metadata": {
  "kernelspec": {
   "display_name": "Python 3 (ipykernel)",
   "language": "python",
   "name": "python3"
  },
  "language_info": {
   "codemirror_mode": {
    "name": "ipython",
    "version": 3
   },
   "file_extension": ".py",
   "mimetype": "text/x-python",
   "name": "python",
   "nbconvert_exporter": "python",
   "pygments_lexer": "ipython3",
   "version": "3.12.3"
  }
 },
 "nbformat": 4,
 "nbformat_minor": 5
}
