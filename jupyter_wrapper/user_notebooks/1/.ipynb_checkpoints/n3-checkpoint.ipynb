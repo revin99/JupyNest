{
 "cells": [
  {
   "cell_type": "code",
   "execution_count": null,
   "id": "ec887e02-3fac-43d5-8952-89cff6a277d7",
   "metadata": {},
   "outputs": [],
   "source": []
  }
 ],
 "metadata": {
  "kernelspec": {
   "display_name": "Python 3 (ipykernel)",
   "language": "python",
   "name": "python3"
  },
  "language_info": {
   "name": ""
  }
 },
 "nbformat": 4,
 "nbformat_minor": 5
}
