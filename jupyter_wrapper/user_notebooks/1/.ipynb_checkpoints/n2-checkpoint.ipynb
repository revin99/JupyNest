{
 "cells": [
  {
   "cell_type": "code",
   "execution_count": null,
   "id": "c9d0606c-f5d5-48e8-8ca5-393e4cf3bd01",
   "metadata": {},
   "outputs": [],
   "source": [
    "print(\"HI\")"
   ]
  }
 ],
 "metadata": {
  "kernelspec": {
   "display_name": "Python 3 (ipykernel)",
   "language": "python",
   "name": "python3"
  },
  "language_info": {
   "codemirror_mode": {
    "name": "ipython",
    "version": 3
   },
   "file_extension": ".py",
   "mimetype": "text/x-python",
   "name": "python",
   "nbconvert_exporter": "python",
   "pygments_lexer": "ipython3",
   "version": "3.13.0"
  }
 },
 "nbformat": 4,
 "nbformat_minor": 5
}
